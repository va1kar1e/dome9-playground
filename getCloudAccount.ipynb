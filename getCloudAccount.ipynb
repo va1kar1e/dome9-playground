{
 "cells": [
  {
   "cell_type": "markdown",
   "metadata": {},
   "source": [
    "# Cloud Account"
   ]
  },
  {
   "cell_type": "code",
   "execution_count": null,
   "metadata": {},
   "outputs": [],
   "source": [
    "import os, json\n",
    "import requests\n",
    "import pandas as pd\n",
    "from dotenv import load_dotenv\n",
    "load_dotenv()"
   ]
  },
  {
   "cell_type": "code",
   "execution_count": null,
   "metadata": {},
   "outputs": [],
   "source": [
    "AUTH = [os.getenv(\"apiKey\"), os.getenv(\"apiSecret\")]\n",
    "BASE_URL = os.getenv(\"dome9URL\")\n",
    "HEADER = {\n",
    "    'Content-Type': 'application/json',\n",
    "    'Accept': 'application/json'\n",
    "}"
   ]
  },
  {
   "cell_type": "markdown",
   "metadata": {},
   "source": [
    "## 0. Extract Data from Result"
   ]
  },
  {
   "cell_type": "code",
   "execution_count": null,
   "metadata": {},
   "outputs": [],
   "source": [
    "def extractCloudAccount(data={}):\n",
    "    return {\n",
    "        \"id\": data[\"id\"],\n",
    "        \"name\": data[\"name\"],\n",
    "        \"vendor\": data[\"vendor\"]\n",
    "    }"
   ]
  },
  {
   "cell_type": "markdown",
   "metadata": {},
   "source": [
    "## 1. Get All AWS Cloud Accounts"
   ]
  },
  {
   "cell_type": "code",
   "execution_count": null,
   "metadata": {},
   "outputs": [],
   "source": [
    "def getAllAWSCloudAccount():\n",
    "    print(\"[Request] Get All AWS Cloud Accounts\")\n",
    "    url = BASE_URL + '/CloudAccounts'\n",
    "    print(\"URL  : \" + url)\n",
    "    r = requests.get(url, params={}, headers=HEADER, auth=(AUTH[0], AUTH[1]))\n",
    "    if r.status_code == 200:\n",
    "        r = r.json()\n",
    "        return [extractCloudAccount(dat) for dat in r]\n",
    "    else:\n",
    "        print(\"[Error] \" + str(r.status_code))"
   ]
  },
  {
   "cell_type": "code",
   "execution_count": null,
   "metadata": {},
   "outputs": [],
   "source": [
    "awsAccounts = getAllAWSCloudAccount()"
   ]
  },
  {
   "cell_type": "code",
   "execution_count": null,
   "metadata": {},
   "outputs": [],
   "source": [
    "awsAccounts_df = pd.DataFrame(awsAccounts)"
   ]
  },
  {
   "cell_type": "code",
   "execution_count": null,
   "metadata": {},
   "outputs": [],
   "source": [
    "awsAccounts_df[awsAccounts_df['name'].str.contains('')]"
   ]
  },
  {
   "cell_type": "code",
   "execution_count": null,
   "metadata": {},
   "outputs": [],
   "source": [
    "awsAccounts[6]"
   ]
  },
  {
   "cell_type": "markdown",
   "metadata": {},
   "source": [
    "## 2. Get All Azure Cloud Accounts"
   ]
  },
  {
   "cell_type": "code",
   "execution_count": null,
   "metadata": {},
   "outputs": [],
   "source": [
    "def getallAzureCloudAccount():\n",
    "    print(\"[Request] Get All Azure Cloud Accounts\")\n",
    "    url = BASE_URL + '/AzureCloudAccount'\n",
    "    print(\"URL  : \" + url)\n",
    "\n",
    "    r = requests.get(url, headers=HEADER, auth=(AUTH[0], AUTH[1]))\n",
    "    if r.status_code == 200:\n",
    "        r = r.json()\n",
    "        return [extractCloudAccount(dat) for dat in r]\n",
    "    else:\n",
    "        print(\"[Error] \" + str(r.status_code))"
   ]
  },
  {
   "cell_type": "code",
   "execution_count": null,
   "metadata": {},
   "outputs": [],
   "source": [
    "azureAccounts = getallAzureCloudAccount()"
   ]
  },
  {
   "cell_type": "code",
   "execution_count": null,
   "metadata": {},
   "outputs": [],
   "source": [
    "azureAccounts_df = pd.DataFrame(azureAccounts)"
   ]
  },
  {
   "cell_type": "code",
   "execution_count": null,
   "metadata": {},
   "outputs": [],
   "source": [
    "azureAccounts_df[azureAccounts_df['name'].str.contains('')]"
   ]
  },
  {
   "cell_type": "code",
   "execution_count": null,
   "metadata": {},
   "outputs": [],
   "source": [
    "azureAccounts[2]"
   ]
  },
  {
   "cell_type": "markdown",
   "metadata": {},
   "source": [
    "## 3. Get All GCP Cloud Accounts"
   ]
  },
  {
   "cell_type": "code",
   "execution_count": null,
   "metadata": {},
   "outputs": [],
   "source": [
    "def getallGCPCloudAccount():\n",
    "    print(\"[Request] Get All GCP Cloud Accounts\")\n",
    "    url = BASE_URL + '/GoogleCloudAccount'\n",
    "    print(\"URL  : \" + url)\n",
    "\n",
    "    r = requests.get(url, headers=HEADER, auth=(AUTH[0], AUTH[1]))\n",
    "    if r.status_code == 200:\n",
    "        r = r.json()\n",
    "        return [extractCloudAccount(dat) for dat in r]\n",
    "    else:\n",
    "        print(\"[Error] \" + str(r.status_code))"
   ]
  },
  {
   "cell_type": "code",
   "execution_count": null,
   "metadata": {},
   "outputs": [],
   "source": [
    "gcpAccounts = getallGCPCloudAccount()"
   ]
  },
  {
   "cell_type": "code",
   "execution_count": null,
   "metadata": {},
   "outputs": [],
   "source": [
    "gcpAccounts_df = pd.DataFrame(gcpAccounts)"
   ]
  },
  {
   "cell_type": "code",
   "execution_count": null,
   "metadata": {},
   "outputs": [],
   "source": [
    "gcpAccounts_df[gcpAccounts_df['name'].str.contains('')]"
   ]
  },
  {
   "cell_type": "code",
   "execution_count": null,
   "metadata": {},
   "outputs": [],
   "source": [
    "gcpAccounts[2]"
   ]
  },
  {
   "cell_type": "markdown",
   "metadata": {},
   "source": [
    "## 4. Get All Kubernetes Cloud Accounts"
   ]
  },
  {
   "cell_type": "code",
   "execution_count": null,
   "metadata": {},
   "outputs": [],
   "source": [
    "def getallKubernetesCloudAccount():\n",
    "    print(\"[Request] Get All Kubernetes Cloud Accounts\")\n",
    "    url = BASE_URL + '/kubernetes/account'\n",
    "    print(\"URL  : \" + url)\n",
    "\n",
    "    r = requests.get(url, headers=HEADER, auth=(AUTH[0], AUTH[1]))\n",
    "    if r.status_code == 200:\n",
    "        r = r.json()\n",
    "        return [extractCloudAccount(dat) for dat in r]\n",
    "    else:\n",
    "        print(\"[Error] \" + str(r.status_code))"
   ]
  },
  {
   "cell_type": "code",
   "execution_count": null,
   "metadata": {},
   "outputs": [],
   "source": [
    "kubeAccounts = getallKubernetesCloudAccount()"
   ]
  },
  {
   "cell_type": "code",
   "execution_count": null,
   "metadata": {},
   "outputs": [],
   "source": [
    "kubeAccounts_df = pd.DataFrame(kubeAccounts)"
   ]
  },
  {
   "cell_type": "code",
   "execution_count": null,
   "metadata": {},
   "outputs": [],
   "source": [
    "kubeAccounts_df[kubeAccounts_df['name'].str.contains('')]"
   ]
  },
  {
   "cell_type": "code",
   "execution_count": null,
   "metadata": {},
   "outputs": [],
   "source": [
    "kubeAccounts[6]"
   ]
  },
  {
   "cell_type": "markdown",
   "metadata": {},
   "source": [
    "## 5. Export All Cloud Accounts to Json"
   ]
  },
  {
   "cell_type": "code",
   "execution_count": null,
   "metadata": {},
   "outputs": [],
   "source": [
    "cloudAccounts = awsAccounts + azureAccounts + gcpAccounts + kubeAccounts"
   ]
  },
  {
   "cell_type": "code",
   "execution_count": null,
   "metadata": {},
   "outputs": [],
   "source": [
    "cloudAccounts"
   ]
  },
  {
   "cell_type": "code",
   "execution_count": null,
   "metadata": {},
   "outputs": [],
   "source": [
    "filepath = \"templates/cloudAccounts.json\""
   ]
  },
  {
   "cell_type": "code",
   "execution_count": null,
   "metadata": {},
   "outputs": [],
   "source": [
    "with open(filepath, 'w', encoding=\"utf8\") as f:\n",
    "    f.write(json.dumps(cloudAccounts, indent=4))\n",
    "print(\"\\n[Success Exporting] \" + filepath)"
   ]
  }
 ],
 "metadata": {
  "kernelspec": {
   "display_name": "Python 3",
   "language": "python",
   "name": "python3"
  },
  "language_info": {
   "codemirror_mode": {
    "name": "ipython",
    "version": 3
   },
   "file_extension": ".py",
   "mimetype": "text/x-python",
   "name": "python",
   "nbconvert_exporter": "python",
   "pygments_lexer": "ipython3",
   "version": "3.8.3"
  }
 },
 "nbformat": 4,
 "nbformat_minor": 4
}
