{
 "cells": [
  {
   "cell_type": "markdown",
   "metadata": {},
   "source": [
    "# Assessment History"
   ]
  },
  {
   "cell_type": "code",
   "execution_count": null,
   "metadata": {},
   "outputs": [],
   "source": [
    "import os, sys\n",
    "import json\n",
    "import requests\n",
    "from datetime import datetime\n",
    "from dotenv import load_dotenv\n",
    "load_dotenv()"
   ]
  },
  {
   "cell_type": "code",
   "execution_count": null,
   "metadata": {},
   "outputs": [],
   "source": [
    "AUTH = [os.getenv(\"apiKey\"), os.getenv(\"apiSecret\")]\n",
    "BASE_URL = os.getenv(\"dome9URL\")\n",
    "HEADER = {\n",
    "    'Content-Type': 'application/json',\n",
    "    'Accept': 'application/json'\n",
    "}\n",
    "\n",
    "PROXIES_HTTPS = os.getenv(\"PROXIES_HTTPS\")\n",
    "PROXIES = {\n",
    "    \"https\": str(PROXIES_HTTPS)\n",
    "}"
   ]
  },
  {
   "cell_type": "markdown",
   "metadata": {},
   "source": [
    "## 1. Get Assessment History"
   ]
  },
  {
   "cell_type": "markdown",
   "metadata": {},
   "source": [
    "    bundleId : '<Ruleset ID>',\n",
    "    cloudAccountIds : '<Cloud Account ID>',\n",
    "    fromTime : '2021-08-23 12:00:00'"
   ]
  },
  {
   "cell_type": "code",
   "execution_count": null,
   "metadata": {},
   "outputs": [],
   "source": [
    "def convertToTimeFormat(time=None):\n",
    "    fromTime = datetime.strptime(time, '%Y-%m-%d %H:%M:%S')\n",
    "    return str(datetime.strftime(fromTime, \"%Y-%m-%dT%H:%M:%SZ\"))"
   ]
  },
  {
   "cell_type": "code",
   "execution_count": null,
   "metadata": {},
   "outputs": [],
   "source": [
    "def getAssessmentHistory(bundleId=\"\", cloudAccountIds=\"\", fromTime=\"\"):\n",
    "    print(\"[Request] Get All Bundle Results\")\n",
    "    url = BASE_URL + '/AssessmentHistoryV2/bundleResults'\n",
    "    print(\"URL  : \" + url)\n",
    "    \n",
    "    params = {\n",
    "        'bundleId': str(bundleId),\n",
    "        'cloudAccountIds': str(cloudAccountIds),\n",
    "        'fromTime': convertToTimeFormat(time=fromTime)\n",
    "    }\n",
    "\n",
    "    r = requests.get(url, params=params, headers=HEADER, auth=(AUTH[0], AUTH[1]), proxies=PROXIES)\n",
    "    if r.status_code == 200:\n",
    "        r = r.json()\n",
    "        return str(r[0][\"id\"]), r\n",
    "    else:\n",
    "        print(\"[Error] status_code : \" + str(r.status_code))\n",
    "        print(r.text)"
   ]
  },
  {
   "cell_type": "code",
   "execution_count": null,
   "metadata": {},
   "outputs": [],
   "source": [
    "bundleId = '<Bundle ID | Number>'\n",
    "cloudAccountIds = '<Cloud Account ID | GUID>'\n",
    "fromTime = '2021-08-23 12:00:00'"
   ]
  },
  {
   "cell_type": "code",
   "execution_count": null,
   "metadata": {},
   "outputs": [],
   "source": [
    "assessmentHistory = getAssessmentHistory(bundleId=bundleId, cloudAccountIds=cloudAccountIds, fromTime=fromTime)"
   ]
  },
  {
   "cell_type": "code",
   "execution_count": null,
   "metadata": {},
   "outputs": [],
   "source": [
    "nowTime = datetime.now().strftime(\"(%y%m%d-%H%M%S) Dome9_\")\n",
    "filepath = \"outputs/\" + nowTime + cloudAccountIds + \".json\""
   ]
  },
  {
   "cell_type": "code",
   "execution_count": null,
   "metadata": {},
   "outputs": [],
   "source": [
    "with open(filepath, 'w', encoding=\"utf8\") as f:\n",
    "    f.write(json.dumps(assessmentHistory, indent=4))\n",
    "print(\"\\n[Success Exporting] \" + filepath)"
   ]
  },
  {
   "cell_type": "markdown",
   "metadata": {},
   "source": [
    "## 2. Get Assessment History in CSV"
   ]
  },
  {
   "cell_type": "code",
   "execution_count": null,
   "metadata": {},
   "outputs": [],
   "source": [
    "def getAssessmentHistoryCSV(assessmentResultId=\"\"):\n",
    "    print(\"[Request] Get All Bundle Results in CSV\")\n",
    "    url = BASE_URL + '/AssessmentHistoryV2/csv/' + str(assessmentResultId)\n",
    "    print(\"URL  : \" + url)\n",
    "\n",
    "    r = requests.get(url, headers=HEADER, auth=(AUTH[0], AUTH[1]), stream=True)\n",
    "    total_length = r.headers.get('content-length')\n",
    "    print(\"[Downloading Success] Content-length : \" + str(total_length))\n",
    "\n",
    "    if r.status_code == 200:\n",
    "        r = r.text\n",
    "        return r\n",
    "    else:\n",
    "        print(\"[Error] \" + str(r.status_code))\n",
    "        print(r.text)\n",
    "        sys.exit()"
   ]
  },
  {
   "cell_type": "code",
   "execution_count": null,
   "metadata": {},
   "outputs": [],
   "source": [
    "assessmentResultId = \"<Assessment Result ID | Number>\""
   ]
  },
  {
   "cell_type": "code",
   "execution_count": null,
   "metadata": {},
   "outputs": [],
   "source": [
    "assessmentHistoryCSV = getAssessmentHistoryCSV(assessmentResultId=assessmentResultId)"
   ]
  },
  {
   "cell_type": "code",
   "execution_count": null,
   "metadata": {},
   "outputs": [],
   "source": [
    "nowTime = datetime.now().strftime(\"(%y%m%d-%H%M%S) Dome9_\")\n",
    "filepath = \"outputs/\" + nowTime + assessmentResultId + \".csv\""
   ]
  },
  {
   "cell_type": "code",
   "execution_count": null,
   "metadata": {},
   "outputs": [],
   "source": [
    "with open(filepath, 'wb') as f:\n",
    "    f.write(assessmentHistoryCSV.encode(\"utf-8\"))\n",
    "print(\"\\n[Success Exporting] \" + filepath)"
   ]
  },
  {
   "cell_type": "markdown",
   "metadata": {},
   "source": [
    "## 3. Get Last Assessment Results"
   ]
  },
  {
   "cell_type": "code",
   "execution_count": null,
   "metadata": {},
   "outputs": [],
   "source": [
    "def getLatestAssessmentHistoryView(bundleId=None, cloudAccountId=\"\", cloudAccountType=\"\"):\n",
    "    print(\"[Request] Get Last Assessment Results\")\n",
    "    url = BASE_URL + '/AssessmentHistoryV2/LastAssessmentResults/view'\n",
    "    print(\"URL  : \" + url)\n",
    "\n",
    "    body = {\n",
    "        \"cloudAccountBundleFilters\": [\n",
    "        {\n",
    "          \"bundleIds\": [\n",
    "            int(bundleId)\n",
    "          ],\n",
    "          \"cloudAccountIds\": [\n",
    "            str(cloudAccountId)\n",
    "          ],\n",
    "          \"cloudAccountType\": cloudAccountType\n",
    "        }\n",
    "      ]\n",
    "    }\n",
    "    \n",
    "    r = requests.post(url, headers=HEADER, data=json.dumps(body).encode(\"utf-8\"), auth=(AUTH[0], AUTH[1]))\n",
    "\n",
    "    if r.status_code == 200:\n",
    "        r = r.json()\n",
    "        return r\n",
    "    else:\n",
    "        print(\"[Error] \" + str(r.status_code))\n",
    "        print(r.text)"
   ]
  },
  {
   "cell_type": "code",
   "execution_count": null,
   "metadata": {},
   "outputs": [],
   "source": [
    "def getLatestAssessmentHistory(bundleId=None, cloudAccountId=\"\", cloudAccountType=\"\"):\n",
    "    print(\"[Request] Get Last Assessment Results\")\n",
    "    url = BASE_URL + '/AssessmentHistoryV2/LastAssessmentResults'\n",
    "    print(\"URL  : \" + url)\n",
    "\n",
    "    body = {\n",
    "        \"cloudAccountBundleFilters\": [\n",
    "        {\n",
    "          \"bundleIds\": [\n",
    "            int(bundleId)\n",
    "          ],\n",
    "          \"cloudAccountIds\": [\n",
    "            str(cloudAccountId)\n",
    "          ],\n",
    "          \"cloudAccountType\": cloudAccountType\n",
    "        }\n",
    "      ]\n",
    "    }\n",
    "    \n",
    "    r = requests.post(url, headers=HEADER, data=json.dumps(body).encode(\"utf-8\"), auth=(AUTH[0], AUTH[1]))\n",
    "\n",
    "    if r.status_code == 200:\n",
    "        r = r.json()\n",
    "        return str(r[0][\"id\"]), r\n",
    "    else:\n",
    "        print(\"[Error] \" + str(r.status_code))\n",
    "        print(r.text)"
   ]
  },
  {
   "cell_type": "markdown",
   "metadata": {},
   "source": [
    "```\n",
    "bundleId = '<Bundle ID | Number>'\n",
    "cloudAccountId = '<Cloud Account ID | GUID>'\n",
    "cloudAccountType = \"Aws\"\n",
    "\n",
    "```"
   ]
  },
  {
   "cell_type": "code",
   "execution_count": null,
   "metadata": {},
   "outputs": [],
   "source": [
    "bundleId = ''\n",
    "cloudAccountId = ''\n",
    "cloudAccountType = \"Aws\""
   ]
  },
  {
   "cell_type": "code",
   "execution_count": null,
   "metadata": {},
   "outputs": [],
   "source": [
    "assessmentHistory = getLatestAssessmentHistory(bundleId=bundleId, cloudAccountId=cloudAccountId, cloudAccountType=cloudAccountType)\n",
    "assessmentHistoryView = getLatestAssessmentHistoryView(bundleId=bundleId, cloudAccountId=cloudAccountId, cloudAccountType=cloudAccountType)"
   ]
  },
  {
   "cell_type": "code",
   "execution_count": null,
   "metadata": {},
   "outputs": [],
   "source": [
    "assessmentHistoryView"
   ]
  },
  {
   "cell_type": "code",
   "execution_count": null,
   "metadata": {},
   "outputs": [],
   "source": [
    "nowTime = datetime.now().strftime(\"(%y%m%d-%H%M%S) Dome9_\")\n",
    "filepath = \"outputs/\" + nowTime + cloudAccountIds + \".json\""
   ]
  },
  {
   "cell_type": "code",
   "execution_count": null,
   "metadata": {},
   "outputs": [],
   "source": [
    "with open(filepath, 'w', encoding=\"utf8\") as f:\n",
    "    f.write(json.dumps(assessmentHistory, indent=4))\n",
    "print(\"\\n[Success Exporting] \" + filepath)"
   ]
  },
  {
   "cell_type": "code",
   "execution_count": null,
   "metadata": {},
   "outputs": [],
   "source": []
  }
 ],
 "metadata": {
  "kernelspec": {
   "display_name": "Python 3",
   "language": "python",
   "name": "python3"
  },
  "language_info": {
   "codemirror_mode": {
    "name": "ipython",
    "version": 3
   },
   "file_extension": ".py",
   "mimetype": "text/x-python",
   "name": "python",
   "nbconvert_exporter": "python",
   "pygments_lexer": "ipython3",
   "version": "3.8.8"
  }
 },
 "nbformat": 4,
 "nbformat_minor": 4
}
