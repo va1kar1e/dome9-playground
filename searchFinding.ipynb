{
 "cells": [
  {
   "cell_type": "markdown",
   "metadata": {},
   "source": [
    "# Search Finding"
   ]
  },
  {
   "cell_type": "code",
   "execution_count": null,
   "metadata": {},
   "outputs": [],
   "source": [
    "import os, sys\n",
    "import json\n",
    "import requests\n",
    "import pandas as pd\n",
    "from datetime import datetime\n",
    "from dotenv import load_dotenv\n",
    "load_dotenv()"
   ]
  },
  {
   "cell_type": "code",
   "execution_count": null,
   "metadata": {},
   "outputs": [],
   "source": [
    "AUTH = [os.getenv(\"apiKey\"), os.getenv(\"apiSecret\")]\n",
    "BASE_URL = os.getenv(\"dome9URL\")\n",
    "HEADER = {\n",
    "    'Content-Type': 'application/json',\n",
    "    'Accept': 'application/json'\n",
    "}"
   ]
  },
  {
   "cell_type": "markdown",
   "metadata": {},
   "source": [
    "## 0. Search Finding Function"
   ]
  },
  {
   "cell_type": "markdown",
   "metadata": {},
   "source": [
    "Maximum Total Response 1000 Objects"
   ]
  },
  {
   "cell_type": "code",
   "execution_count": null,
   "metadata": {},
   "outputs": [],
   "source": [
    "def checkFindingsTotal(data={}):\n",
    "    if data[\"totalFindingsCount\"] == 0:\n",
    "        print(\"[Error] Total Finding Counts : 0\")\n",
    "\n",
    "    if data[\"totalFindingsCount\"] == len(data[\"findings\"]):\n",
    "        print(\"\\nTotal Finding Counts : \" + str(data[\"totalFindingsCount\"]))\n",
    "        return data[\"findings\"]\n",
    "    else:\n",
    "        print(\"[Error] Total Finding Counts != Length of Findings\")\n",
    "        print(\"[Error] Total Finding Counts : \" + str(data[\"totalFindingsCount\"]))\n",
    "        print(\"[Error] Length of Findings : \" + str(len(data[\"findings\"])))"
   ]
  },
  {
   "cell_type": "code",
   "execution_count": null,
   "metadata": {},
   "outputs": [],
   "source": [
    "def search(filters={}):\n",
    "    print(\"[Request] Search Compliance Finding\")\n",
    "    url = BASE_URL + '/Compliance/Finding/search'\n",
    "    print(\"URL  : \" + url)\n",
    "    print(\"Maximum Total Response 1000 Objects\")\n",
    "    \n",
    "    body = {\n",
    "        \"pageSize\": 1000,\n",
    "        \"filter\": filters\n",
    "    }\n",
    "    \n",
    "    r = requests.post(url, params={}, data=json.dumps(body).encode(\"utf-8\"), headers=HEADER, auth=(AUTH[0], AUTH[1]))\n",
    "    if r.status_code == 201:\n",
    "        r = r.json()\n",
    "        return checkFindingsTotal(r)\n",
    "    else:\n",
    "        print(\"[Error] \" + str(r.status_code))\n",
    "        print(\"[Error] \" + str(r.text))\n",
    "        sys.exit()"
   ]
  },
  {
   "cell_type": "code",
   "execution_count": null,
   "metadata": {},
   "outputs": [],
   "source": [
    "def extractFindings(data={}):\n",
    "    return {\n",
    "        \"cloudAccountId\": data[\"cloudAccountId\"],\n",
    "        \"bundleName\": data[\"bundleName\"],\n",
    "        \"entityType\": data[\"entityType\"],\n",
    "        \"entityName\": data[\"entityName\"],\n",
    "        \"ruleName\": data[\"ruleName\"],\n",
    "        \"severity\": data[\"severity\"],\n",
    "        \"tag\": data[\"tag\"],\n",
    "        \"gsl\": data[\"ruleLogic\"],\n",
    "        \"remediation\": data[\"remediation\"]\n",
    "    }"
   ]
  },
  {
   "cell_type": "markdown",
   "metadata": {},
   "source": [
    "## 1. Search Finding by Free Text"
   ]
  },
  {
   "cell_type": "code",
   "execution_count": null,
   "metadata": {},
   "outputs": [],
   "source": [
    "text = \"<Search Text>\"\n",
    "assetType = \"Volume\"\n",
    "ruleset = {\n",
    "    \"id\": 123456,\n",
    "    \"name\": \"<Ruleset Name>\",\n",
    "    \"vendor\": \"aws\"\n",
    "}"
   ]
  },
  {
   "cell_type": "code",
   "execution_count": null,
   "metadata": {},
   "outputs": [],
   "source": [
    "filters = {\n",
    "    \"freeTextPhrase\": str(text),\n",
    "    \"fields\": [\n",
    "        {\n",
    "            \"name\": \"entityType\",\n",
    "            \"value\": str(assetType)\n",
    "        },\n",
    "        {\n",
    "            \"name\": \"bundleId\",\n",
    "            \"value\": str(ruleset[\"id\"])\n",
    "        }\n",
    "    ]\n",
    "}"
   ]
  },
  {
   "cell_type": "code",
   "execution_count": null,
   "metadata": {},
   "outputs": [],
   "source": [
    "searchByText = search(filters=filters)"
   ]
  },
  {
   "cell_type": "code",
   "execution_count": null,
   "metadata": {},
   "outputs": [],
   "source": [
    "searchByText = [extractFindings(finding) for finding in searchByText]\n",
    "searchByText = pd.DataFrame(searchByText)\n",
    "searchByText"
   ]
  },
  {
   "cell_type": "code",
   "execution_count": null,
   "metadata": {},
   "outputs": [],
   "source": [
    "nowTime = datetime.now().strftime(\"(%y%m%d-%H%M%S) Dome9_\")\n",
    "filepath = \"outputs/\" + nowTime + text + \".csv\""
   ]
  },
  {
   "cell_type": "code",
   "execution_count": null,
   "metadata": {},
   "outputs": [],
   "source": [
    "searchByText.to_csv(filepath, index=False, encoding='utf-8')"
   ]
  },
  {
   "cell_type": "markdown",
   "metadata": {},
   "source": [
    "## 2. Search Finding by Asset Name"
   ]
  },
  {
   "cell_type": "code",
   "execution_count": null,
   "metadata": {},
   "outputs": [],
   "source": [
    "asset = {\n",
    "    \"name\": \"<Asset Name>\",\n",
    "    \"type\": \"S3Bucket\" # KubernetesNode\n",
    "}\n",
    "ruleset = {\n",
    "    \"id\": 123456,\n",
    "    \"name\": \"<Ruleset Name>\",\n",
    "    \"vendor\": \"aws\"\n",
    "}\n",
    "cloudAccount = {\n",
    "    \"id\": \"<Cloud Account ID | GUID>\",\n",
    "    \"name\": \"<Cloud Account Name>\",\n",
    "    \"vendor\": \"aws\"\n",
    "}"
   ]
  },
  {
   "cell_type": "code",
   "execution_count": null,
   "metadata": {},
   "outputs": [],
   "source": [
    "filters = {\n",
    "    'freeTextPhrase': None,\n",
    "    \"fields\": [\n",
    "        {\n",
    "            \"name\": \"entityName\",\n",
    "            \"value\": str(asset[\"name\"])\n",
    "        },\n",
    "        {\n",
    "            \"name\": \"entityType\",\n",
    "            \"value\": str(asset[\"type\"])\n",
    "        },\n",
    "        {\n",
    "            \"name\": \"bundleId\",\n",
    "            \"value\": str(ruleset[\"id\"])\n",
    "        },\n",
    "        {\n",
    "            \"name\": \"cloudAccountId\",\n",
    "            \"value\": str(cloudAccount[\"id\"])\n",
    "        }\n",
    "    ]\n",
    "}"
   ]
  },
  {
   "cell_type": "code",
   "execution_count": null,
   "metadata": {},
   "outputs": [],
   "source": [
    "searchByAsset = search(filters=filters)"
   ]
  },
  {
   "cell_type": "code",
   "execution_count": null,
   "metadata": {},
   "outputs": [],
   "source": [
    "searchByAsset = [extractFindings(finding) for finding in searchByAsset]"
   ]
  },
  {
   "cell_type": "code",
   "execution_count": null,
   "metadata": {},
   "outputs": [],
   "source": [
    "searchByAsset = pd.DataFrame(searchByAsset)\n",
    "searchByAsset"
   ]
  }
 ],
 "metadata": {
  "kernelspec": {
   "display_name": "Python 3",
   "language": "python",
   "name": "python3"
  },
  "language_info": {
   "codemirror_mode": {
    "name": "ipython",
    "version": 3
   },
   "file_extension": ".py",
   "mimetype": "text/x-python",
   "name": "python",
   "nbconvert_exporter": "python",
   "pygments_lexer": "ipython3",
   "version": "3.8.3"
  }
 },
 "nbformat": 4,
 "nbformat_minor": 4
}
