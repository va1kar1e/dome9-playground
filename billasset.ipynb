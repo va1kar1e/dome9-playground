{
 "cells": [
  {
   "cell_type": "markdown",
   "metadata": {},
   "source": [
    "# Billable Assets"
   ]
  },
  {
   "cell_type": "code",
   "execution_count": null,
   "metadata": {},
   "outputs": [],
   "source": [
    "import os, sys\n",
    "import requests\n",
    "import pandas as pd\n",
    "from dotenv import load_dotenv\n",
    "load_dotenv()"
   ]
  },
  {
   "cell_type": "code",
   "execution_count": null,
   "metadata": {},
   "outputs": [],
   "source": [
    "AUTH = [os.getenv(\"apiKey\"), os.getenv(\"apiSecret\")]\n",
    "BASE_URL = os.getenv(\"dome9URL\")\n",
    "HEADER = {\n",
    "    'Content-Type': 'application/json',\n",
    "    'Accept': 'application/json'\n",
    "}"
   ]
  },
  {
   "cell_type": "markdown",
   "metadata": {},
   "source": [
    "## 1. Get All Custom Rulesets"
   ]
  },
  {
   "cell_type": "code",
   "execution_count": null,
   "metadata": {},
   "outputs": [],
   "source": [
    "def getAllBillableAssets():\n",
    "    print(\"[Request] Get All Billable Assets\")\n",
    "    url = BASE_URL + '/BillableAssets'\n",
    "    print(\"URL  : \" + url)\n",
    "\n",
    "    r = requests.get(url, params={}, headers=HEADER, auth=(AUTH[0], AUTH[1]))\n",
    "    if r.status_code == 200:\n",
    "        r = r.json()\n",
    "        return r\n",
    "    else:\n",
    "        print(\"[Error] \" + str(r.status_code))\n",
    "        sys.exit()"
   ]
  },
  {
   "cell_type": "code",
   "execution_count": null,
   "metadata": {},
   "outputs": [],
   "source": [
    "billableAssets = getAllBillableAssets()"
   ]
  },
  {
   "cell_type": "code",
   "execution_count": null,
   "metadata": {},
   "outputs": [],
   "source": [
    "billableAssets.keys()"
   ]
  },
  {
   "cell_type": "code",
   "execution_count": null,
   "metadata": {},
   "outputs": [],
   "source": [
    "print(\"Account : \")\n",
    "print(str(billableAssets[\"accountId\"]) + \" - \" + billableAssets[\"accountName\"])\n",
    "print(\"\\nGrand Totals : \")\n",
    "print(billableAssets[\"grandTotals\"])\n",
    "print(\"\\nPurcahsed : \")\n",
    "print(billableAssets[\"purcahseOrderInstances\"])"
   ]
  },
  {
   "cell_type": "code",
   "execution_count": null,
   "metadata": {},
   "outputs": [],
   "source": [
    "billableAssets_df = pd.DataFrame(billableAssets[\"totals\"])\n",
    "billableAssets_df.loc['Total',2:]= billableAssets_df.sum(axis=0)\n",
    "billableAssets_df.loc[:,'Total'] = billableAssets_df.sum(axis=1)"
   ]
  },
  {
   "cell_type": "code",
   "execution_count": null,
   "metadata": {
    "scrolled": true
   },
   "outputs": [],
   "source": [
    "print(\"\\nTotals : \")\n",
    "billableAssets_df"
   ]
  },
  {
   "cell_type": "code",
   "execution_count": null,
   "metadata": {},
   "outputs": [],
   "source": [
    "# billableAssetsData_df = pd.DataFrame(billableAssets[\"cloudAccountsData\"])\n",
    "# print(\"\\nTotals By Cloud Accounts : \")\n",
    "# billableAssetsData_df"
   ]
  }
 ],
 "metadata": {
  "kernelspec": {
   "display_name": "Python 3",
   "language": "python",
   "name": "python3"
  },
  "language_info": {
   "codemirror_mode": {
    "name": "ipython",
    "version": 3
   },
   "file_extension": ".py",
   "mimetype": "text/x-python",
   "name": "python",
   "nbconvert_exporter": "python",
   "pygments_lexer": "ipython3",
   "version": "3.8.3"
  }
 },
 "nbformat": 4,
 "nbformat_minor": 4
}
