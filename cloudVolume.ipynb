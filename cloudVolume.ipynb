{
 "cells": [
  {
   "cell_type": "markdown",
   "metadata": {},
   "source": [
    "# Search Cloud Volume Details"
   ]
  },
  {
   "cell_type": "code",
   "execution_count": null,
   "metadata": {},
   "outputs": [],
   "source": [
    "import os\n",
    "import requests\n",
    "import pandas as pd\n",
    "from dotenv import load_dotenv\n",
    "load_dotenv()"
   ]
  },
  {
   "cell_type": "code",
   "execution_count": null,
   "metadata": {},
   "outputs": [],
   "source": [
    "AUTH = [os.getenv(\"apiKey\"), os.getenv(\"apiSecret\")]\n",
    "BASE_URL = os.getenv(\"dome9URL\")\n",
    "HEADER = {\n",
    "    'Content-Type': 'application/json',\n",
    "    'Accept': 'application/json'\n",
    "}"
   ]
  },
  {
   "cell_type": "markdown",
   "metadata": {},
   "source": [
    "## 1. Get All Cloud Volume"
   ]
  },
  {
   "cell_type": "code",
   "execution_count": null,
   "metadata": {},
   "outputs": [],
   "source": [
    "def getCloudVolumes():\n",
    "    print(\"[Request] Get All Cloud Volumes\")\n",
    "    url = BASE_URL + '/CloudVolume'\n",
    "    print(\"URL  : \" + url)\n",
    "\n",
    "    r = requests.get(url, params={}, headers=HEADER, auth=(AUTH[0], AUTH[1]))\n",
    "    \n",
    "    if r.status_code == 200:\n",
    "        r = r.json()\n",
    "        return r\n",
    "    else:\n",
    "        print(\"[Error] \" + str(r.status_code))"
   ]
  },
  {
   "cell_type": "code",
   "execution_count": null,
   "metadata": {},
   "outputs": [],
   "source": [
    "cloudVolumes = getCloudVolumes()\n",
    "# cloudVolumes"
   ]
  },
  {
   "cell_type": "code",
   "execution_count": null,
   "metadata": {},
   "outputs": [],
   "source": [
    "cloudVolumes_df = pd.DataFrame(cloudVolumes)\n",
    "cloudVolumes_df"
   ]
  }
 ],
 "metadata": {
  "kernelspec": {
   "display_name": "Python 3",
   "language": "python",
   "name": "python3"
  },
  "language_info": {
   "codemirror_mode": {
    "name": "ipython",
    "version": 3
   },
   "file_extension": ".py",
   "mimetype": "text/x-python",
   "name": "python",
   "nbconvert_exporter": "python",
   "pygments_lexer": "ipython3",
   "version": "3.8.3"
  }
 },
 "nbformat": 4,
 "nbformat_minor": 4
}
