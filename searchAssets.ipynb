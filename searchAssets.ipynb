{
 "cells": [
  {
   "cell_type": "markdown",
   "metadata": {},
   "source": [
    "# Search Assets"
   ]
  },
  {
   "cell_type": "code",
   "execution_count": null,
   "metadata": {},
   "outputs": [],
   "source": [
    "import os, json\n",
    "import requests\n",
    "import pandas as pd\n",
    "from dotenv import load_dotenv\n",
    "load_dotenv()"
   ]
  },
  {
   "cell_type": "code",
   "execution_count": null,
   "metadata": {},
   "outputs": [],
   "source": [
    "AUTH = [os.getenv(\"apiKey\"), os.getenv(\"apiSecret\")]\n",
    "BASE_URL = os.getenv(\"dome9URL\")\n",
    "HEADER = {\n",
    "    'Content-Type': 'application/json',\n",
    "    'Accept': 'application/json'\n",
    "}"
   ]
  },
  {
   "cell_type": "markdown",
   "metadata": {},
   "source": [
    "## 0. Search Assets Function"
   ]
  },
  {
   "cell_type": "markdown",
   "metadata": {},
   "source": [
    "Maximum Total 500 Assets"
   ]
  },
  {
   "cell_type": "code",
   "execution_count": null,
   "metadata": {},
   "outputs": [],
   "source": [
    "def checkAssetsTotal(data={}):\n",
    "    if data[\"totalCount\"] == 0:\n",
    "        print(\"[Error] Total Assets : 0\")\n",
    "\n",
    "    if data[\"totalCount\"] == len(data[\"assets\"]):\n",
    "        print(\"\\nTotal Assets : \" + str(data[\"totalCount\"]))\n",
    "        return data[\"assets\"]\n",
    "    else:\n",
    "        print(\"[Error] Total Assets != Length of assets\")\n",
    "        print(\"[Error] totalCount : \" + str(data[\"totalCount\"]))\n",
    "        print(\"[Error] Length of assets : \" + str(len(data[\"assets\"])))"
   ]
  },
  {
   "cell_type": "code",
   "execution_count": null,
   "metadata": {},
   "outputs": [],
   "source": [
    "def searchAssets(filters={}):\n",
    "    print(\"[Request] Search Assets\")\n",
    "    url = BASE_URL + '/protected-asset/search'\n",
    "    print(\"URL  : \" + url)\n",
    "    \n",
    "    body = {\n",
    "        \"pageSize\": 500,\n",
    "        \"filter\": filters\n",
    "    }\n",
    "\n",
    "    r = requests.post(url, params={}, data=json.dumps(body).encode(\"utf-8\"), headers=HEADER, auth=(AUTH[0], AUTH[1]))\n",
    "    \n",
    "    if r.status_code == 201:\n",
    "        r = r.json()\n",
    "        return checkAssetsTotal(r)\n",
    "    else:\n",
    "        print(\"[Error] \" + str(r.status_code))"
   ]
  },
  {
   "cell_type": "code",
   "execution_count": null,
   "metadata": {},
   "outputs": [],
   "source": [
    "def extractAssetDetail(asset={}):\n",
    "    return {\n",
    "        \"cloudAccountId\": asset[\"cloudAccountId\"],\n",
    "        \"type\": asset[\"type\"],\n",
    "        \"name\": asset[\"name\"],\n",
    "        \"entityId\": asset[\"entityId\"],\n",
    "        \"platform\": asset[\"platform\"],\n",
    "        \"tags\": asset[\"tags\"]\n",
    "    }"
   ]
  },
  {
   "cell_type": "markdown",
   "metadata": {},
   "source": [
    "## 1. Search Asset By Asset Name"
   ]
  },
  {
   "cell_type": "code",
   "execution_count": null,
   "metadata": {},
   "outputs": [],
   "source": [
    "asset = {\n",
    "    \"name\" : \"<Asset Name>\"\n",
    "}"
   ]
  },
  {
   "cell_type": "code",
   "execution_count": null,
   "metadata": {},
   "outputs": [],
   "source": [
    "filters = {\n",
    "    \"fields\": [\n",
    "        {\n",
    "            \"name\": \"name\",\n",
    "            \"value\": str(asset[\"name\"])\n",
    "        }\n",
    "    ],\n",
    "}"
   ]
  },
  {
   "cell_type": "code",
   "execution_count": null,
   "metadata": {},
   "outputs": [],
   "source": [
    "assets = searchAssets(filters=filters)\n",
    "assets"
   ]
  },
  {
   "cell_type": "code",
   "execution_count": null,
   "metadata": {},
   "outputs": [],
   "source": [
    "assets = pd.DataFrame(assets)\n",
    "assets[[\"type\", \"name\", \"cloudAccountId\"]]"
   ]
  },
  {
   "cell_type": "markdown",
   "metadata": {},
   "source": [
    "## 2. Search Asset By Free Text"
   ]
  },
  {
   "cell_type": "code",
   "execution_count": null,
   "metadata": {},
   "outputs": [],
   "source": [
    "text = \"<Search Text>\"\n",
    "assetType = \"Instance\""
   ]
  },
  {
   "cell_type": "code",
   "execution_count": null,
   "metadata": {},
   "outputs": [],
   "source": [
    "filters = {\n",
    "    \"freeTextPhrase\": str(text),\n",
    "    \"fields\": [\n",
    "        {\n",
    "            \"name\": \"type\",\n",
    "            \"value\": str(assetType)\n",
    "        }\n",
    "    ],\n",
    "}"
   ]
  },
  {
   "cell_type": "code",
   "execution_count": null,
   "metadata": {},
   "outputs": [],
   "source": [
    "assets = searchAssets(filters=filters)"
   ]
  },
  {
   "cell_type": "code",
   "execution_count": null,
   "metadata": {},
   "outputs": [],
   "source": [
    "assets = [extractAssetDetail(asset) for asset in assets]"
   ]
  },
  {
   "cell_type": "code",
   "execution_count": null,
   "metadata": {},
   "outputs": [],
   "source": [
    "assets = pd.DataFrame(assets)\n",
    "assets[[\"type\", \"name\", \"cloudAccountId\"]]"
   ]
  }
 ],
 "metadata": {
  "kernelspec": {
   "display_name": "Python 3.8.5 64-bit",
   "language": "python",
   "name": "python3"
  },
  "language_info": {
   "codemirror_mode": {
    "name": "ipython",
    "version": 3
   },
   "file_extension": ".py",
   "mimetype": "text/x-python",
   "name": "python",
   "nbconvert_exporter": "python",
   "pygments_lexer": "ipython3",
   "version": "3.8.5"
  },
  "vscode": {
   "interpreter": {
    "hash": "9650cb4e16cdd4a8e8e2d128bf38d875813998db22a3c986335f89e0cb4d7bb2"
   }
  }
 },
 "nbformat": 4,
 "nbformat_minor": 4
}
