{
 "cells": [
  {
   "cell_type": "markdown",
   "metadata": {},
   "source": [
    "# Ruleset"
   ]
  },
  {
   "cell_type": "code",
   "execution_count": null,
   "metadata": {},
   "outputs": [],
   "source": [
    "import os, sys, json\n",
    "import requests\n",
    "from dotenv import load_dotenv\n",
    "load_dotenv()"
   ]
  },
  {
   "cell_type": "code",
   "execution_count": null,
   "metadata": {},
   "outputs": [],
   "source": [
    "AUTH = [os.getenv(\"apiKey\"), os.getenv(\"apiSecret\")]\n",
    "BASE_URL = os.getenv(\"dome9URL\")\n",
    "HEADER = {\n",
    "    'Content-Type': 'application/json',\n",
    "    'Accept': 'application/json'\n",
    "}"
   ]
  },
  {
   "cell_type": "markdown",
   "metadata": {},
   "source": [
    "## 1. Get All Custom Rulesets"
   ]
  },
  {
   "cell_type": "code",
   "execution_count": null,
   "metadata": {},
   "outputs": [],
   "source": [
    "def extractRuleSet(data={}):\n",
    "    return {\n",
    "        \"id\": data[\"id\"],\n",
    "        \"name\": data[\"name\"],\n",
    "        \"vendor\": data[\"cloudVendor\"]\n",
    "    }"
   ]
  },
  {
   "cell_type": "code",
   "execution_count": null,
   "metadata": {},
   "outputs": [],
   "source": [
    "def getAllRulesets():\n",
    "    print(\"[Request] Get All Rulesets\")\n",
    "    url = BASE_URL + '/Compliance/Ruleset'\n",
    "    print(\"URL  : \" + url)\n",
    "\n",
    "    r = requests.get(url, params={}, headers=HEADER, auth=(AUTH[0], AUTH[1]))\n",
    "    if r.status_code == 200:\n",
    "        r = r.json()\n",
    "        return [extractRuleSet(rule) for rule in r]\n",
    "    else:\n",
    "        print(\"[Error] \" + str(r.status_code))\n",
    "        sys.exit()"
   ]
  },
  {
   "cell_type": "code",
   "execution_count": null,
   "metadata": {},
   "outputs": [],
   "source": [
    "rulesets = getAllRulesets()"
   ]
  },
  {
   "cell_type": "code",
   "execution_count": null,
   "metadata": {},
   "outputs": [],
   "source": [
    "rulesets = [ruleset for ruleset in rulesets if \"SCB\".lower() in ruleset[\"name\"].lower()]\n",
    "rulesets"
   ]
  },
  {
   "cell_type": "code",
   "execution_count": null,
   "metadata": {},
   "outputs": [],
   "source": [
    "filepath = \"templates/Rulesets.json\""
   ]
  },
  {
   "cell_type": "code",
   "execution_count": null,
   "metadata": {},
   "outputs": [],
   "source": [
    "with open(filepath, 'w', encoding=\"utf8\") as f:\n",
    "    f.write(json.dumps(rulesets, indent=4))\n",
    "print(\"\\n[Success Exporting] \" + filepath)"
   ]
  },
  {
   "cell_type": "code",
   "execution_count": null,
   "metadata": {},
   "outputs": [],
   "source": []
  }
 ],
 "metadata": {
  "kernelspec": {
   "display_name": "Python 3",
   "language": "python",
   "name": "python3"
  },
  "language_info": {
   "codemirror_mode": {
    "name": "ipython",
    "version": 3
   },
   "file_extension": ".py",
   "mimetype": "text/x-python",
   "name": "python",
   "nbconvert_exporter": "python",
   "pygments_lexer": "ipython3",
   "version": "3.8.3"
  }
 },
 "nbformat": 4,
 "nbformat_minor": 4
}
