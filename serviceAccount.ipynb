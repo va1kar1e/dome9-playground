{
 "cells": [
  {
   "cell_type": "markdown",
   "metadata": {},
   "source": [
    "# Manage Service Account"
   ]
  },
  {
   "cell_type": "markdown",
   "metadata": {},
   "source": [
    "Kubernetes Agent Token"
   ]
  },
  {
   "cell_type": "code",
   "execution_count": null,
   "metadata": {},
   "outputs": [],
   "source": [
    "import os, sys, json\n",
    "import requests\n",
    "import pandas as pd\n",
    "from dotenv import load_dotenv\n",
    "load_dotenv()"
   ]
  },
  {
   "cell_type": "code",
   "execution_count": null,
   "metadata": {},
   "outputs": [],
   "source": [
    "AUTH = [os.getenv(\"apiKey\"), os.getenv(\"apiSecret\")]\n",
    "BASE_URL = os.getenv(\"dome9URL\")\n",
    "HEADER = {\n",
    "    'Content-Type': 'application/json',\n",
    "    'Accept': 'application/json'\n",
    "}"
   ]
  },
  {
   "cell_type": "markdown",
   "metadata": {},
   "source": [
    "# Get All Sevice Accounts"
   ]
  },
  {
   "cell_type": "code",
   "execution_count": null,
   "metadata": {},
   "outputs": [],
   "source": [
    "def getAllServiceAccounts():\n",
    "    print(\"[Request] Get All Service Accounts\")\n",
    "    url = BASE_URL + '/service-account'\n",
    "    print(\"URL  : \" + url)\n",
    "\n",
    "    r = requests.get(url, params={}, headers=HEADER, auth=(AUTH[0], AUTH[1]))\n",
    "    if r.status_code == 200:\n",
    "        r = r.json()\n",
    "        return r\n",
    "    else:\n",
    "        print(\"[Error] \" + str(r.status_code))\n",
    "        sys.exit()"
   ]
  },
  {
   "cell_type": "code",
   "execution_count": null,
   "metadata": {},
   "outputs": [],
   "source": [
    "allServiceAccounts = getAllServiceAccounts()\n",
    "allServiceAccounts_df = pd.DataFrame(allServiceAccounts)\n",
    "allServiceAccounts_df"
   ]
  },
  {
   "cell_type": "markdown",
   "metadata": {},
   "source": [
    "# Get Service Account By ID"
   ]
  },
  {
   "cell_type": "code",
   "execution_count": null,
   "metadata": {},
   "outputs": [],
   "source": [
    "def getServiceAccountByID(serviceAccountID=\"\"):\n",
    "    print(\"[Request] Get Service Account By ID\")\n",
    "    url = BASE_URL + '/service-account/' + str(serviceAccountID)\n",
    "    print(\"URL  : \" + url)\n",
    "\n",
    "    r = requests.get(url, params={}, headers=HEADER, auth=(AUTH[0], AUTH[1]))\n",
    "    if r.status_code == 200:\n",
    "        r = r.json()\n",
    "        return r\n",
    "    else:\n",
    "        print(\"[Error] \" + str(r.status_code))\n",
    "        sys.exit()"
   ]
  },
  {
   "cell_type": "code",
   "execution_count": null,
   "metadata": {},
   "outputs": [],
   "source": [
    "serviceAccountID = \"b5abf203-484a-4006-9b42-7636b27b66c8\"\n",
    "serviceAccounts = getServiceAccountByID(serviceAccountID)\n",
    "serviceAccounts"
   ]
  },
  {
   "cell_type": "markdown",
   "metadata": {},
   "source": [
    "# Create Service Accounts"
   ]
  },
  {
   "cell_type": "code",
   "execution_count": null,
   "metadata": {},
   "outputs": [],
   "source": [
    "def createServiceAccount(name=\"\", roleIds=[]):\n",
    "    print(\"[Request] Create Service Account\")\n",
    "    url = BASE_URL + '/service-account'\n",
    "    print(\"URL  : \" + url)\n",
    "    \n",
    "    body = {\n",
    "        \"name\": name,\n",
    "        \"roleIds\": roleIds\n",
    "    }\n",
    "    \n",
    "    r = requests.post(url, headers=HEADER, data=json.dumps(body).encode(\"utf-8\"), auth=(AUTH[0], AUTH[1]))\n",
    "\n",
    "    if r.status_code == 201:\n",
    "        r = r.json()\n",
    "        return r\n",
    "    else:\n",
    "        print(\"[Error] \" + str(r.status_code))\n",
    "        print(r.text)\n",
    "        sys.exit()"
   ]
  },
  {
   "cell_type": "code",
   "execution_count": null,
   "metadata": {},
   "outputs": [],
   "source": [
    "name = \"eksa-apps-workload-01-temp\"\n",
    "roleIds = [356356] # Kubernetes Agent Role"
   ]
  },
  {
   "cell_type": "code",
   "execution_count": null,
   "metadata": {},
   "outputs": [],
   "source": [
    "createServiceAccount(name=name, roleIds=roleIds)"
   ]
  },
  {
   "cell_type": "markdown",
   "metadata": {},
   "source": [
    "# Delete Service Account by ID"
   ]
  },
  {
   "cell_type": "code",
   "execution_count": null,
   "metadata": {},
   "outputs": [],
   "source": [
    "def deleteServiceAccount(serviceAccountID=\"\"):\n",
    "    print(\"[Request] Delete Service Account by ID\")\n",
    "    url = BASE_URL + '/service-account/' + str(serviceAccountID)\n",
    "    print(\"URL  : \" + url)\n",
    "    \n",
    "    r = requests.delete(url, headers=HEADER, auth=(AUTH[0], AUTH[1]))\n",
    "\n",
    "    if r.status_code == 204:\n",
    "        return \"Delete Successful\""
   ]
  },
  {
   "cell_type": "code",
   "execution_count": null,
   "metadata": {},
   "outputs": [],
   "source": [
    "serviceAccountID = \"e70ff3f4-36a5-4d7c-9257-462bbbe6fb5c\"\n",
    "deleteServiceAccount(serviceAccountID)"
   ]
  },
  {
   "cell_type": "markdown",
   "metadata": {},
   "source": [
    "# Generate New Secret For Service Account by ID"
   ]
  },
  {
   "cell_type": "code",
   "execution_count": null,
   "metadata": {},
   "outputs": [],
   "source": [
    "def generateSecretServiceAccount(serviceAccountID=\"\"):\n",
    "    print(\"[Request] Generate New Secret For Service Account by ID\")\n",
    "    url = BASE_URL + '/service-account/generate-key'\n",
    "    print(\"URL  : \" + url)\n",
    "    \n",
    "    body = {\n",
    "        \"id\": serviceAccountID\n",
    "    }\n",
    "    \n",
    "    r = requests.post(url, headers=HEADER, data=json.dumps(body).encode(\"utf-8\"), auth=(AUTH[0], AUTH[1]))\n",
    "\n",
    "    if r.status_code == 201:\n",
    "        r = r.json()\n",
    "        return r\n",
    "    else:\n",
    "        print(\"[Error] \" + str(r.status_code))\n",
    "        print(r.text)\n",
    "        sys.exit()"
   ]
  },
  {
   "cell_type": "code",
   "execution_count": null,
   "metadata": {},
   "outputs": [],
   "source": [
    "serviceAccountID=\"e70ff3f4-36a5-4d7c-9257-462bbbe6fb5c\"\n",
    "generateSecretServiceAccount(serviceAccountID=serviceAccountID)"
   ]
  },
  {
   "cell_type": "code",
   "execution_count": null,
   "metadata": {},
   "outputs": [],
   "source": []
  }
 ],
 "metadata": {
  "kernelspec": {
   "display_name": "Python 3",
   "language": "python",
   "name": "python3"
  },
  "language_info": {
   "codemirror_mode": {
    "name": "ipython",
    "version": 3
   },
   "file_extension": ".py",
   "mimetype": "text/x-python",
   "name": "python",
   "nbconvert_exporter": "python",
   "pygments_lexer": "ipython3",
   "version": "3.8.3"
  }
 },
 "nbformat": 4,
 "nbformat_minor": 4
}
